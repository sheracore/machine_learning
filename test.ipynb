{
 "cells": [
  {
   "cell_type": "code",
   "execution_count": 1,
   "id": "2c74f0cd",
   "metadata": {},
   "outputs": [],
   "source": [
    "import sys"
   ]
  },
  {
   "cell_type": "code",
   "execution_count": 5,
   "id": "1c1c4c9c",
   "metadata": {},
   "outputs": [
    {
     "name": "stdout",
     "output_type": "stream",
     "text": [
      "dfsdf\n"
     ]
    }
   ],
   "source": [
    "print(\"dfsdf\")"
   ]
  },
  {
   "cell_type": "markdown",
   "id": "797bcce0",
   "metadata": {},
   "source": [
    "### Lets start code\n",
    "Here we will compute the results based on the above code"
   ]
  },
  {
   "cell_type": "code",
   "execution_count": null,
   "id": "03d4b010",
   "metadata": {},
   "outputs": [],
   "source": []
  },
  {
   "cell_type": "code",
   "execution_count": null,
   "id": "9e4adae6",
   "metadata": {},
   "outputs": [],
   "source": []
  }
 ],
 "metadata": {
  "kernelspec": {
   "display_name": "Python 3 (ipykernel)",
   "language": "python",
   "name": "python3"
  },
  "language_info": {
   "codemirror_mode": {
    "name": "ipython",
    "version": 3
   },
   "file_extension": ".py",
   "mimetype": "text/x-python",
   "name": "python",
   "nbconvert_exporter": "python",
   "pygments_lexer": "ipython3",
   "version": "3.8.10"
  }
 },
 "nbformat": 4,
 "nbformat_minor": 5
}
